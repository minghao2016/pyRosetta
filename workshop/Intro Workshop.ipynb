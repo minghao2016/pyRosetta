{
 "cells": [
  {
   "cell_type": "markdown",
   "metadata": {
    "collapsed": true
   },
   "source": [
    "#PyRosseta Workshop\n",
    "\n",
    "This Jupyter Notebook consists of examples obtained from [pyRosetta tutorials](http://www.pyrosetta.org/tutorials).\n",
    "\n",
    "- Author: [marcomunozperez@uma.es](mailto:marcomunozperez@uma.es)\n",
    "\n",
    "- Available on GitHub: [github.com/mmp1100000/pyRosetta](https://github.com/mmp1100000/pyRosetta)"
   ]
  },
  {
   "cell_type": "code",
   "execution_count": 295,
   "metadata": {},
   "outputs": [],
   "source": [
    "# Imports\n",
    "from pyrosetta import pose_from_pdb, init, AtomID\n",
    "from pyrosetta.toolbox import pose_from_rcsb, get_secstruct\n",
    "from pyrosetta import PyMOLMover\n",
    "pymol = PyMOLMover()"
   ]
  },
  {
   "cell_type": "code",
   "execution_count": 296,
   "metadata": {
    "collapsed": true
   },
   "outputs": [
    {
     "name": "stdout",
     "output_type": "stream",
     "text": [
      "Found rosetta database at: /Volumes/1TB HDD/Rosseta/PyRosetta4.Release.python36.mac.release-182/pyrosetta/database; using it....\n"
     ]
    },
    {
     "name": "stdout",
     "output_type": "stream",
     "text": [
      "PyRosetta-4 2017 [Rosetta PyRosetta4.Release.python36.mac 2018.22+release.99b36feae4399b36feae433b8844356edc437c1c2e16e55540b 2018-05-31T13:59:26] retrieved from: http://www.pyrosetta.org\n(C) Copyright Rosetta Commons Member Institutions.\nCreated in JHU by Sergey Lyskov and PyRosetta Team.\n\n"
     ]
    },
    {
     "name": "stdout",
     "output_type": "stream",
     "text": [
      "core.init: Checking for fconfig files in pwd and ./rosetta/flags\n"
     ]
    },
    {
     "name": "stdout",
     "output_type": "stream",
     "text": [
      "\n"
     ]
    },
    {
     "name": "stdout",
     "output_type": "stream",
     "text": [
      "core.init: Rosetta version: PyRosetta4.Release.python36.mac r182 2018.22+release.99b36feae43 99b36feae433b8844356edc437c1c2e16e55540b http://www.pyrosetta.org 2018-05-31T13:59:26\n"
     ]
    },
    {
     "name": "stdout",
     "output_type": "stream",
     "text": [
      "core.init: command: PyRosetta -ex1 -ex2aro -database /Volumes/1TB HDD/Rosseta/PyRosetta4.Release.python36.mac.release-182/pyrosetta/database\n"
     ]
    },
    {
     "name": "stdout",
     "output_type": "stream",
     "text": [
      "core.init: 'RNG device' seed mode, using '/dev/urandom', seed=965741386 seed_offset=0 real_seed=965741386\n"
     ]
    },
    {
     "name": "stdout",
     "output_type": "stream",
     "text": [
      "core.init.random: RandomGenerator:init: Normal mode, seed=965741386 RG_type=mt19937\n"
     ]
    }
   ],
   "source": [
    "init()  "
   ]
  },
  {
   "cell_type": "markdown",
   "metadata": {},
   "source": [
    "###Download PDB files"
   ]
  },
  {
   "cell_type": "code",
   "execution_count": 297,
   "metadata": {
    "collapsed": true
   },
   "outputs": [
    {
     "name": "stdout",
     "output_type": "stream",
     "text": [
      "The file 1YY8.pdb already exists; this file will be overwritten.\n"
     ]
    },
    {
     "name": "stdout",
     "output_type": "stream",
     "text": [
      "PDB 1YY8 successfully loaded from the RCSB into 1YY8.pdb.\nif the file 1YY8.clean.pdb already exists, it will be overwritten\nPDB 1YY8.pdb successfully cleaned, non-ATOM lines removed\nclean data written to 1YY8.clean.pdb\n"
     ]
    },
    {
     "name": "stdout",
     "output_type": "stream",
     "text": [
      "core.import_pose.import_pose: File '1YY8.clean.pdb' automatically determined to be of type PDB\n"
     ]
    },
    {
     "name": "stdout",
     "output_type": "stream",
     "text": [
      "core.conformation.Conformation: [ WARNING ] missing heavyatom:  CG  on residue ARG 18\n"
     ]
    },
    {
     "name": "stdout",
     "output_type": "stream",
     "text": [
      "core.conformation.Conformation: [ WARNING ] missing heavyatom:  CD  on residue ARG 18\n"
     ]
    },
    {
     "name": "stdout",
     "output_type": "stream",
     "text": [
      "core.conformation.Conformation: [ WARNING ] missing heavyatom:  NE  on residue ARG 18\n"
     ]
    },
    {
     "name": "stdout",
     "output_type": "stream",
     "text": [
      "core.conformation.Conformation: [ WARNING ] missing heavyatom:  CZ  on residue ARG 18\n"
     ]
    },
    {
     "name": "stdout",
     "output_type": "stream",
     "text": [
      "core.conformation.Conformation: [ WARNING ] missing heavyatom:  NH1 on residue ARG 18\n"
     ]
    },
    {
     "name": "stdout",
     "output_type": "stream",
     "text": [
      "core.conformation.Conformation: [ WARNING ] missing heavyatom:  NH2 on residue ARG 18\n"
     ]
    },
    {
     "name": "stdout",
     "output_type": "stream",
     "text": [
      "core.conformation.Conformation: [ WARNING ] missing heavyatom:  CG  on residue GLN:NtermProteinFull 214\n"
     ]
    },
    {
     "name": "stdout",
     "output_type": "stream",
     "text": [
      "core.conformation.Conformation: [ WARNING ] missing heavyatom:  CD  on residue GLN:NtermProteinFull 214\n"
     ]
    },
    {
     "name": "stdout",
     "output_type": "stream",
     "text": [
      "core.conformation.Conformation: [ WARNING ] missing heavyatom:  OE1 on residue GLN:NtermProteinFull 214\n"
     ]
    },
    {
     "name": "stdout",
     "output_type": "stream",
     "text": [
      "core.conformation.Conformation: [ WARNING ] missing heavyatom:  NE2 on residue GLN:NtermProteinFull 214\n"
     ]
    },
    {
     "name": "stdout",
     "output_type": "stream",
     "text": [
      "core.conformation.Conformation: [ WARNING ] missing heavyatom:  CG  on residue ARG 452\n"
     ]
    },
    {
     "name": "stdout",
     "output_type": "stream",
     "text": [
      "core.conformation.Conformation: [ WARNING ] missing heavyatom:  CD  on residue ARG 452\n"
     ]
    },
    {
     "name": "stdout",
     "output_type": "stream",
     "text": [
      "core.conformation.Conformation: [ WARNING ] missing heavyatom:  NE  on residue ARG 452\n"
     ]
    },
    {
     "name": "stdout",
     "output_type": "stream",
     "text": [
      "core.conformation.Conformation: [ WARNING ] missing heavyatom:  CZ  on residue ARG 452\n"
     ]
    },
    {
     "name": "stdout",
     "output_type": "stream",
     "text": [
      "core.conformation.Conformation: [ WARNING ] missing heavyatom:  NH1 on residue ARG 452\n"
     ]
    },
    {
     "name": "stdout",
     "output_type": "stream",
     "text": [
      "core.conformation.Conformation: [ WARNING ] missing heavyatom:  NH2 on residue ARG 452\n"
     ]
    },
    {
     "name": "stdout",
     "output_type": "stream",
     "text": [
      "core.conformation.Conformation: [ WARNING ] missing heavyatom:  CG  on residue GLN:NtermProteinFull 648\n"
     ]
    },
    {
     "name": "stdout",
     "output_type": "stream",
     "text": [
      "core.conformation.Conformation: [ WARNING ] missing heavyatom:  CD  on residue GLN:NtermProteinFull 648\n"
     ]
    },
    {
     "name": "stdout",
     "output_type": "stream",
     "text": [
      "core.conformation.Conformation: [ WARNING ] missing heavyatom:  OE1 on residue GLN:NtermProteinFull 648\n"
     ]
    },
    {
     "name": "stdout",
     "output_type": "stream",
     "text": [
      "core.conformation.Conformation: [ WARNING ] missing heavyatom:  NE2 on residue GLN:NtermProteinFull 648\n"
     ]
    },
    {
     "name": "stdout",
     "output_type": "stream",
     "text": [
      "core.conformation.Conformation: Found disulfide between residues 23 88\n"
     ]
    },
    {
     "name": "stdout",
     "output_type": "stream",
     "text": [
      "core.conformation.Conformation: current variant for 23 CYS\n"
     ]
    },
    {
     "name": "stdout",
     "output_type": "stream",
     "text": [
      "core.conformation.Conformation: current variant for 88 CYS\n"
     ]
    },
    {
     "name": "stdout",
     "output_type": "stream",
     "text": [
      "core.conformation.Conformation: current variant for 23 CYD\n"
     ]
    },
    {
     "name": "stdout",
     "output_type": "stream",
     "text": [
      "core.conformation.Conformation: current variant for 88 CYD\n"
     ]
    },
    {
     "name": "stdout",
     "output_type": "stream",
     "text": [
      "core.conformation.Conformation: Found disulfide between residues 134 194\n"
     ]
    },
    {
     "name": "stdout",
     "output_type": "stream",
     "text": [
      "core.conformation.Conformation: current variant for 134 CYS\n"
     ]
    },
    {
     "name": "stdout",
     "output_type": "stream",
     "text": [
      "core.conformation.Conformation: current variant for 194 CYS\n"
     ]
    },
    {
     "name": "stdout",
     "output_type": "stream",
     "text": [
      "core.conformation.Conformation: current variant for 134 CYD\n"
     ]
    },
    {
     "name": "stdout",
     "output_type": "stream",
     "text": [
      "core.conformation.Conformation: current variant for 194 CYD\n"
     ]
    },
    {
     "name": "stdout",
     "output_type": "stream",
     "text": [
      "core.conformation.Conformation: Found disulfide between residues 235 308\n"
     ]
    },
    {
     "name": "stdout",
     "output_type": "stream",
     "text": [
      "core.conformation.Conformation: current variant for 235 CYS\n"
     ]
    },
    {
     "name": "stdout",
     "output_type": "stream",
     "text": [
      "core.conformation.Conformation: current variant for 308 CYS\n"
     ]
    },
    {
     "name": "stdout",
     "output_type": "stream",
     "text": [
      "core.conformation.Conformation: current variant for 235 CYD\n"
     ]
    },
    {
     "name": "stdout",
     "output_type": "stream",
     "text": [
      "core.conformation.Conformation: current variant for 308 CYD\n"
     ]
    },
    {
     "name": "stdout",
     "output_type": "stream",
     "text": [
      "core.conformation.Conformation: Found disulfide between residues 359 415\n"
     ]
    },
    {
     "name": "stdout",
     "output_type": "stream",
     "text": [
      "core.conformation.Conformation: current variant for 359 CYS\n"
     ]
    },
    {
     "name": "stdout",
     "output_type": "stream",
     "text": [
      "core.conformation.Conformation: current variant for 415 CYS\n"
     ]
    },
    {
     "name": "stdout",
     "output_type": "stream",
     "text": [
      "core.conformation.Conformation: current variant for 359 CYD\n"
     ]
    },
    {
     "name": "stdout",
     "output_type": "stream",
     "text": [
      "core.conformation.Conformation: current variant for 415 CYD\n"
     ]
    },
    {
     "name": "stdout",
     "output_type": "stream",
     "text": [
      "core.conformation.Conformation: Found disulfide between residues 457 522\n"
     ]
    },
    {
     "name": "stdout",
     "output_type": "stream",
     "text": [
      "core.conformation.Conformation: current variant for 457 CYS\n"
     ]
    },
    {
     "name": "stdout",
     "output_type": "stream",
     "text": [
      "core.conformation.Conformation: current variant for 522 CYS\n"
     ]
    },
    {
     "name": "stdout",
     "output_type": "stream",
     "text": [
      "core.conformation.Conformation: current variant for 457 CYD\n"
     ]
    },
    {
     "name": "stdout",
     "output_type": "stream",
     "text": [
      "core.conformation.Conformation: current variant for 522 CYD\n"
     ]
    },
    {
     "name": "stdout",
     "output_type": "stream",
     "text": [
      "core.conformation.Conformation: Found disulfide between residues 568 628\n"
     ]
    },
    {
     "name": "stdout",
     "output_type": "stream",
     "text": [
      "core.conformation.Conformation: current variant for 568 CYS\n"
     ]
    },
    {
     "name": "stdout",
     "output_type": "stream",
     "text": [
      "core.conformation.Conformation: current variant for 628 CYS\n"
     ]
    },
    {
     "name": "stdout",
     "output_type": "stream",
     "text": [
      "core.conformation.Conformation: current variant for 568 CYD\n"
     ]
    },
    {
     "name": "stdout",
     "output_type": "stream",
     "text": [
      "core.conformation.Conformation: current variant for 628 CYD\n"
     ]
    },
    {
     "name": "stdout",
     "output_type": "stream",
     "text": [
      "core.conformation.Conformation: Found disulfide between residues 669 742\n"
     ]
    },
    {
     "name": "stdout",
     "output_type": "stream",
     "text": [
      "core.conformation.Conformation: current variant for 669 CYS\n"
     ]
    },
    {
     "name": "stdout",
     "output_type": "stream",
     "text": [
      "core.conformation.Conformation: current variant for 742 CYS\n"
     ]
    },
    {
     "name": "stdout",
     "output_type": "stream",
     "text": [
      "core.conformation.Conformation: current variant for 669 CYD\n"
     ]
    },
    {
     "name": "stdout",
     "output_type": "stream",
     "text": [
      "core.conformation.Conformation: current variant for 742 CYD\n"
     ]
    },
    {
     "name": "stdout",
     "output_type": "stream",
     "text": [
      "core.conformation.Conformation: Found disulfide between residues 793 849\n"
     ]
    },
    {
     "name": "stdout",
     "output_type": "stream",
     "text": [
      "core.conformation.Conformation: current variant for 793 CYS\n"
     ]
    },
    {
     "name": "stdout",
     "output_type": "stream",
     "text": [
      "core.conformation.Conformation: current variant for 849 CYS\n"
     ]
    },
    {
     "name": "stdout",
     "output_type": "stream",
     "text": [
      "core.conformation.Conformation: current variant for 793 CYD\n"
     ]
    },
    {
     "name": "stdout",
     "output_type": "stream",
     "text": [
      "core.conformation.Conformation: current variant for 849 CYD\n"
     ]
    },
    {
     "name": "stdout",
     "output_type": "stream",
     "text": [
      "core.pack.pack_missing_sidechains: packing residue number 18 because of missing atom number 6 atom name  CG\n"
     ]
    },
    {
     "name": "stdout",
     "output_type": "stream",
     "text": [
      "core.pack.pack_missing_sidechains: packing residue number 214 because of missing atom number 6 atom name  CG\n"
     ]
    },
    {
     "name": "stdout",
     "output_type": "stream",
     "text": [
      "core.pack.pack_missing_sidechains: packing residue number 452 because of missing atom number 6 atom name  CG\n"
     ]
    },
    {
     "name": "stdout",
     "output_type": "stream",
     "text": [
      "core.pack.pack_missing_sidechains: packing residue number 648 because of missing atom number 6 atom name  CG\n"
     ]
    },
    {
     "name": "stdout",
     "output_type": "stream",
     "text": [
      "core.pack.task: Packer task: initialize from command line()\n"
     ]
    },
    {
     "name": "stdout",
     "output_type": "stream",
     "text": [
      "core.scoring.ScoreFunctionFactory: SCOREFUNCTION: ref2015\n"
     ]
    },
    {
     "name": "stdout",
     "output_type": "stream",
     "text": [
      "\n"
     ]
    },
    {
     "name": "stdout",
     "output_type": "stream",
     "text": [
      "\n"
     ]
    },
    {
     "name": "stdout",
     "output_type": "stream",
     "text": [
      "\n"
     ]
    },
    {
     "name": "stdout",
     "output_type": "stream",
     "text": [
      "\n"
     ]
    },
    {
     "name": "stdout",
     "output_type": "stream",
     "text": [
      "core.pack.pack_rotamers: built 85 rotamers at 4 positions.\n"
     ]
    },
    {
     "name": "stdout",
     "output_type": "stream",
     "text": [
      "core.pack.interaction_graph.interaction_graph_factory: Instantiating DensePDInteractionGraph\n"
     ]
    },
    {
     "name": "stdout",
     "output_type": "stream",
     "text": [
      "core.pack.interaction_graph.interaction_graph_factory: IG: 2084 bytes\n"
     ]
    }
   ],
   "source": [
    "pose = pose_from_rcsb('1YY8')\n",
    "pymol.apply(pose)"
   ]
  },
  {
   "cell_type": "code",
   "execution_count": 298,
   "metadata": {
    "collapsed": true
   },
   "outputs": [
    {
     "name": "stdout",
     "output_type": "stream",
     "text": [
      "PDB file name: 1YY8.clean.pdb\nTotal residues:868\nSequence: DILLTQSPVILSVSPGERVSFSCRASQSIGTNIHWYQQRTNGSPRLLIKYASESISGIPSRFSGSGSGTDFTLSINSVESEDIADYYCQQNNNWPTTFGAGTKLELKRTVAAPSVFIFPPSDEQLKSGTASVVCLLNNFYPREAKVQWKVDNALQSGNSQESVTEQDSKDSTYSLSSTLTLSKADYEKHKVYACEVTHQGLSSPVTKSFNRGAQVQLKQSGPGLVQPSQSLSITCTVSGFSLTNYGVHWVRQSPGKGLEWLGVIWSGGNTDYNTPFTSRLSINKDNSKSQVFFKMNSLQSNDTAIYYCARALTYYDYEFAYWGQGTLVTVSAASTKGPSVFPLAPSSKSTSGGTAALGCLVKDYFPEPVTVSWNSGALTSGVHTFPAVLQSSGLYSLSSVVTVPSSSLGTQTYICNVNHKPSNTKVDKRVEPKSDILLTQSPVILSVSPGERVSFSCRASQSIGTNIHWYQQRTNGSPRLLIKYASESISGIPSRFSGSGSGTDFTLSINSVESEDIADYYCQQNNNWPTTFGAGTKLELKRTVAAPSVFIFPPSDEQLKSGTASVVCLLNNFYPREAKVQWKVDNALQSGNSQESVTEQDSKDSTYSLSSTLTLSKADYEKHKVYACEVTHQGLSSPVTKSFNRGAQVQLKQSGPGLVQPSQSLSITCTVSGFSLTNYGVHWVRQSPGKGLEWLGVIWSGGNTDYNTPFTSRLSINKDNSKSQVFFKMNSLQSNDTAIYYCARALTYYDYEFAYWGQGTLVTVSAASTKGPSVFPLAPSSKSTSGGTAALGCLVKDYFPEPVTVSWNSGALTSGVHTFPAVLQSSGLYSLSSVVTVPSSSLGTQTYICNVNHKPSNTKVDKRVEPKS\nFold tree:\nFOLD_TREE  EDGE 1 213 -1  EDGE 1 214 1  EDGE 214 434 -1  EDGE 1 435 2  EDGE 435 647 -1  EDGE 1 648 3  EDGE 648 868 -1 \n"
     ]
    }
   ],
   "source": [
    "print(pose)"
   ]
  },
  {
   "cell_type": "code",
   "execution_count": 299,
   "metadata": {
    "collapsed": true
   },
   "outputs": [
    {
     "name": "stdout",
     "output_type": "stream",
     "text": [
      "1       9       17      25      33      41      49      57      65      73      \nDILLTQSPVILSVSPGERVSFSCRASQSIGTNIHWYQQRTNGSPRLLIKYASESISGIPSRFSGSGSGTDFTLSINSVES\nLLLEEEELLEEEELLLLLEEEEEEELLLLLLLEEEEEELLLLLLEEEEELLLEELLLLLLLEEEEEELLEEEEEELLLLH\n\n81      89      97      105     113     121     129     137     145     153     \nEDIADYYCQQNNNWPTTFGAGTKLELKRTVAAPSVFIFPPSDEQLKSGTASVVCLLNNFYPREAKVQWKVDNALQSGNSQ\nHHLEEEEEEELLLLLLEELLLEEEEELLLLELLEEEEELLLHHHHHHLEEEEEEEEEEEELLLLEEEEEELLEELLLLEE\n\n161     169     177     185     193     201     209     217     225     233     \nESVTEQDSKDSTYSLSSTLTLSKADYEKHKVYACEVTHQGLSSPVTKSFNRGAQVQLKQSGPGLVQPSQSLSITCTVSGF\nEEELLLLLLLLLEEEEEEEEEEHHHHHHLLEEEEEEELLLLLLLEEEEEELLLLLEEEELLLEEELLLLLEEEEEEEELL\n\n241     249     257     265     273     281     289     297     305     313     \nSLTNYGVHWVRQSPGKGLEWLGVIWSGGNTDYNTPFTSRLSINKDNSKSQVFFKMNSLQSNDTAIYYCARALTYYDYEFA\nLLLLLLEEEEEELLLLLEEEEEEELLLLLEEELHHHLLLEEEEEELLLLEEEEEELLLLHHHLEEEEEEEELLLLLLLEE\n\n321     329     337     345     353     361     369     377     385     393     \nYWGQGTLVTVSAASTKGPSVFPLAPSSKSTSGGTAALGCLVKDYFPEPVTVSWNSGALTSGVHTFPAVLQSSGLYSLSSV\nEELLLEEEEELLLLLELLEEEEELLLHHHEEHHEEEEEEEEEEEELLLLEEEEHHHLELLLEEELLLEELLLLLEEEEEE\n\n401     409     417     425     433     441     449     457     465     473     \nVTVPSSSLGTQTYICNVNHKPSNTKVDKRVEPKSDILLTQSPVILSVSPGERVSFSCRASQSIGTNIHWYQQRTNGSPRL\nEEEEHHHLLLLLLEEEEEEHHHLEEEEEELLLLLLLLEEEELLEEEELLLLLEEEEEEELLLLLLLEEEEEELLLLLLEE\n\n481     489     497     505     513     521     529     537     545     553     \nLIKYASESISGIPSRFSGSGSGTDFTLSINSVESEDIADYYCQQNNNWPTTFGAGTKLELKRTVAAPSVFIFPPSDEQLK\nEEELLLEELLLLLLLEEEEEELLEEEEEELLLLHHHLEEEEEEELLLLLLEELLLEEEEELLLLELLEEEEELLLHHHHH\n\n561     569     577     585     593     601     609     617     625     633     \nSGTASVVCLLNNFYPREAKVQWKVDNALQSGNSQESVTEQDSKDSTYSLSSTLTLSKADYEKHKVYACEVTHQGLSSPVT\nHLEEEEEEEEEEEELLLEEEEEEELLEEELLLEEEEELLLLLLLLLEEEEEEEEEEHHHHHHLLEEEEEEEELLLLLLEE\n\n641     649     657     665     673     681     689     697     705     713     \nKSFNRGAQVQLKQSGPGLVQPSQSLSITCTVSGFSLTNYGVHWVRQSPGKGLEWLGVIWSGGNTDYNTPFTSRLSINKDN\nEEEELLLLLEEEELLLEEELLLLLEEEEEEEELLLLLLLLEEEEEELLLLLEEEEEEELLLLLEEELHHHLLLEEEEEEL\n\n721     729     737     745     753     761     769     777     785     793     \nSKSQVFFKMNSLQSNDTAIYYCARALTYYDYEFAYWGQGTLVTVSAASTKGPSVFPLAPSSKSTSGGTAALGCLVKDYFP\nLLLEEEEEELLLLHHHLEEEEEEEELLLLLLLEEEELLLEEEEELLLLLELLEEEEELLLHHHEEHHEEEEEEEEEEEEL\n\n801     809     817     825     833     841     849     857     865     873     \nEPVTVSWNSGALTSGVHTFPAVLQSSGLYSLSSVVTVPSSSLGTQTYICNVNHKPSNTKVDKRVEPKS\nLLLEEEEHHHLELLLEEELLLEELLLLLEEEEEEEEEEHHHHHLLLLEEEEEEHHHLEEEEEELLLLL\n\n"
     ]
    }
   ],
   "source": [
    "get_secstruct(pose)"
   ]
  },
  {
   "cell_type": "markdown",
   "metadata": {},
   "source": [
    "###Protein Geometry"
   ]
  },
  {
   "cell_type": "code",
   "execution_count": 300,
   "metadata": {
    "collapsed": true
   },
   "outputs": [
    {
     "name": "stdout",
     "output_type": "stream",
     "text": [
      "1.4632323807242649\n"
     ]
    }
   ],
   "source": [
    "R5N = AtomID(1, 5)\n",
    "R5CA = AtomID(2, 5)\n",
    "R5C = AtomID(3, 5) \n",
    "\n",
    "print(pose.conformation().bond_length(R5N, R5CA))"
   ]
  },
  {
   "cell_type": "code",
   "execution_count": 301,
   "metadata": {},
   "outputs": [],
   "source": [
    "pose.set_phi(5, -60)\n",
    "pose.set_psi(5, -43)\n",
    "pose.set_chi(1, 5, 180)\n",
    "pymol.apply(pose)"
   ]
  },
  {
   "cell_type": "code",
   "execution_count": 302,
   "metadata": {},
   "outputs": [],
   "source": [
    "pose.conformation().set_bond_length(R5N, R5CA, 1.5)\n",
    "pose.conformation().set_bond_angle(R5N, R5CA, R5C, 110./180.*3.14159)\n",
    "pymol.apply(pose)"
   ]
  },
  {
   "cell_type": "markdown",
   "metadata": {},
   "source": [
    "### Scoring (Energy)"
   ]
  },
  {
   "cell_type": "code",
   "execution_count": 303,
   "metadata": {},
   "outputs": [],
   "source": [
    "from pyrosetta.rosetta import *\n",
    "from rosetta.core.scoring.hbonds import HBondSet\n",
    "from pyrosetta import etable_atom_pair_energies\n",
    "from pyrosetta.toolbox import pose_from_rcsb"
   ]
  },
  {
   "cell_type": "code",
   "execution_count": 306,
   "metadata": {
    "collapsed": true
   },
   "outputs": [
    {
     "name": "stdout",
     "output_type": "stream",
     "text": [
      "The file 6Q21.pdb already exists; this file will be overwritten.\nPDB 6Q21 successfully loaded from the RCSB into 6Q21.pdb.\nif the file 6Q21.clean.pdb already exists, it will be overwritten\nPDB 6Q21.pdb successfully cleaned, non-ATOM lines removed\nclean data written to 6Q21.clean.pdb\n"
     ]
    },
    {
     "name": "stdout",
     "output_type": "stream",
     "text": [
      "core.import_pose.import_pose: File '6Q21.clean.pdb' automatically determined to be of type PDB\n"
     ]
    }
   ],
   "source": [
    "ras = pose_from_rcsb(\"6Q21\")"
   ]
  },
  {
   "cell_type": "code",
   "execution_count": 306,
   "metadata": {},
   "outputs": [],
   "source": [
    "pymol.apply(ras)"
   ]
  },
  {
   "cell_type": "code",
   "execution_count": 307,
   "metadata": {},
   "outputs": [],
   "source": [
    "pymol.update_energy(True)"
   ]
  },
  {
   "cell_type": "code",
   "execution_count": 308,
   "metadata": {
    "collapsed": true
   },
   "outputs": [
    {
     "name": "stdout",
     "output_type": "stream",
     "text": [
      "core.scoring.ScoreFunctionFactory: SCOREFUNCTION: ref2015\n"
     ]
    },
    {
     "name": "stdout",
     "output_type": "stream",
     "text": [
      "ScoreFunction::show():\nweights: (fa_atr 1) (fa_rep 0.55) (fa_sol 1) (fa_intra_rep 0.005) (fa_intra_sol_xover4 1) (lk_ball_wtd 1) (fa_elec 1) (pro_close 1.25) (hbond_sr_bb 1) (hbond_lr_bb 1) (hbond_bb_sc 1) (hbond_sc 1) (dslf_fa13 1.25) (omega 0.4) (fa_dun 0.7) (p_aa_pp 0.6) (yhh_planarity 0.625) (ref 1) (rama_prepro 0.45)\nenergy_method_options: EnergyMethodOptions::show: aa_composition_setup_files: \nEnergyMethodOptions::show: netcharge_setup_files: \nEnergyMethodOptions::show: aspartimide_penalty_value: 25\nEnergyMethodOptions::show: etable_type: FA_STANDARD_DEFAULT\nanalytic_etable_evaluation: 1\nEnergyMethodOptions::show: method_weights: ref 1.32468 3.25479 -2.14574 -2.72453 1.21829 0.79816 -0.30065 2.30374 -0.71458 1.66147 1.65735 -1.34026 -1.64321 -1.45095 -0.09474 -0.28969 1.15175 2.64269 2.26099 0.58223\nEnergyMethodOptions::show: method_weights: free_res\nEnergyMethodOptions::show: unfolded_energies_type: UNFOLDED_SCORE12\nEnergyMethodOptions::show: split_unfolded_label_type: SPLIT_UNFOLDED_MM\nEnergyMethodOptions::show: split_unfolded_value_type: SPLIT_UNFOLDED_BOLTZ\nEnergyMethodOptions::show: atom_vdw_atom_type_set_name: centroid\nEnergyMethodOptions::show: exclude_protein_protein_fa_elec: false\nEnergyMethodOptions::show: exclude_RNA_RNA_fa_elec: false\nEnergyMethodOptions::show: exclude_RNA_protein_fa_elec: false\nEnergyMethodOptions::show: exclude_monomer_fa_elec: false\nEnergyMethodOptions::show: elec_max_dis: 5.5\nEnergyMethodOptions::show: elec_min_dis: 1.6\nEnergyMethodOptions::show: elec_die: 10\nEnergyMethodOptions::show: elec_no_dis_dep_die: false\nEnergyMethodOptions::show: elec_sigmoidal_die: true\nEnergyMethodOptions::show: elec_sigmoidal_D: 80\nEnergyMethodOptions::show: elec_sigmoidal_D0: 6\nEnergyMethodOptions::show: elec_sigmoidal_S: 0.4\nEnergyMethodOptions::show: smooth_fa_elec: true\nEnergyMethodOptions::show: grpelec_fade_type: false\nEnergyMethodOptions::show: grpelec_fade_param1: 1\nEnergyMethodOptions::show: grpelec_fade_param2: 1\nEnergyMethodOptions::show: grpelec_fade_hbond: 0\nEnergyMethodOptions::show: grp_cpfxn: 1\nEnergyMethodOptions::show: elec_group_file: /scoring/score_functions/elec_group_def.dat\nEnergyMethodOptions::show: grpelec_context_dependent: 0\nEnergyMethodOptions::show: use_polarization: true\nEnergyMethodOptions::show: use_gen_kirkwood: true\nEnergyMethodOptions::show: protein_dielectric: 1\nEnergyMethodOptions::show: water_dielectric: 78.3\nEnergyMethodOptions::show: exclude_DNA_DNA: true\nEnergyMethodOptions::show: exclude_intra_res_protein: false\nEnergyMethodOptions::show: count_pair_hybrid: false\nEnergyMethodOptions::show: put_intra_into_total: false\nEnergyMethodOptions::show: geom_sol_interres_path_distance_cutoff: false\nEnergyMethodOptions::show: geom_sol_intrares_path_distance_cutoff: true\nEnergyMethodOptions::show: eval_intrares_elec_ST_only: false\nEnergyMethodOptions::show: envsmooth_zero_negatives: false\nEnergyMethodOptions::show: cst_max_seq_sep: 18446744073709551615\nEnergyMethodOptions::show: pb_bound_tag: bound\nEnergyMethodOptions::show: pb_unbound_tag: unbound\nEnergyMethodOptions::show: ordered_wat_penalty: 1.221\nEnergyMethodOptions::show: ordered_pt_wat_penalty: 2.709\nEnergyMethodOptions::show: voids_penalty_energy_containing_cones_cutoff_:6\nEnergyMethodOptions::show: voids_penalty_energy_cone_distance_cutoff_: 8\nEnergyMethodOptions::show: voids_penalty_energy_cone_dotproduct_cutoff_: 0.1\nEnergyMethodOptions::show: voids_penalty_energy_voxel_grid_padding_: 1\nEnergyMethodOptions::show: voids_penalty_energy_voxel_size_: 0.5\nEnergyMethodOptions::show: voids_penalty_energy_disabled_except_during_packing_: TRUE\nEnergyMethodOptions::show: hbnet_bonus_ramping_function_: \"quadratic\"\nEnergyMethodOptions::show: hbnet_max_network_size_: 0\nEnergyMethodOptions::show: bond_angle_central_atoms_to_score:\nEnergyMethodOptions::show: bond_angle_residue_type_param_set: none\nHBondOptions::show: exclude_DNA_DNA: true\nHBondOptions::show: exclude_intra_res_protein_: false\nHBondOptions::show: exclude_intra_res_RNA_: false\nHBondOptions::show: put_intra_into_total_: false\nHBondOptions::show: exclude_self_hbonds: true\nHBondOptions::show: use_hb_env_dep: false\nHBondOptions::show: use_hb_env_dep_DNA: true\nHBondOptions::show: smooth_hb_env_dep: true\nHBondOptions::show: bb_donor_acceptor_check: true\nHBondOptions::show: decompose_bb_hb_into_pair_energies: false\nHBondOptions::show: params_database_tag_: ref2015_params\nHBondOptions::show: use_sp2_chi_penalty_: true\nHBondOptions::show: sp2_BAH180_rise_: 0.75\nHBondOptions::show: sp2_outer_width_: 0.357\nHBondOptions::show: measure_sp3acc_BAH_from_hvy_: true\nHBondOptions::show: fade_energy_: 1\nHBondOptions::show: exclude_ether_oxygens_: 0\nHBondOptions::show: Mbhbond: false \nHbondOptions::show: mphbond: false\nHBondOptions::show: hbond_energy_shift: 0\nHBondOptions::show: water_hybrid_sf: false\nRNA_EnergyMethodOptions::show: syn_G_potential_bonus: 0\nRNA_EnergyMethodOptions::show: torsion_potential: ps_04282011\nRNA_EnergyMethodOptions::show: suiteness_bonus: Richardson\nFreeDOF_Options::show: free_suite_bonus: -1\nFreeDOF_Options::show: free_2HOprime_bonus: -0.5\nFreeDOF_Options::show: free_sugar_bonus: -1\nFreeDOF_Options::show: pack_phosphate_penalty: 0.25\nFreeDOF_Options::show: free_side_chain_bonus: -0.5\n\n\n"
     ]
    }
   ],
   "source": [
    "# load the default full-atom energy terms\n",
    "scorefxn = get_fa_scorefxn()\n",
    "print(scorefxn)"
   ]
  },
  {
   "cell_type": "code",
   "execution_count": 309,
   "metadata": {
    "collapsed": true
   },
   "outputs": [
    {
     "name": "stdout",
     "output_type": "stream",
     "text": [
      "3776.412018572053\n"
     ]
    }
   ],
   "source": [
    "print(scorefxn(ras))\n",
    "pymol.send_energy(ras)"
   ]
  },
  {
   "cell_type": "code",
   "execution_count": 310,
   "metadata": {},
   "outputs": [],
   "source": [
    "scorefxn2 = ScoreFunction()\n",
    "scorefxn2.set_weight(fa_atr, 1.0) #van der Waals Attractive\n",
    "scorefxn2.set_weight(fa_rep, 1.0) #van der Waals repellant\n",
    "scorefxn2.set_weight(hbond_sr_bb, 1.0)\n",
    "scorefxn2.set_weight(hbond_lr_bb, 1.0)\n",
    "scorefxn2.set_weight(hbond_bb_sc, 1.0)\n",
    "scorefxn2.set_weight(hbond_sc, 1.0)\n",
    "scorefxn2.set_weight(fa_sol, 1.0) #Solvation"
   ]
  },
  {
   "cell_type": "code",
   "execution_count": 311,
   "metadata": {},
   "outputs": [],
   "source": [
    "pymol.send_energy(ras, fa_atr)"
   ]
  },
  {
   "cell_type": "code",
   "execution_count": 147,
   "metadata": {},
   "outputs": [],
   "source": [
    "pymol.energy_type(fa_atr)\n",
    "pymol.apply(ras)"
   ]
  },
  {
   "cell_type": "code",
   "execution_count": 148,
   "metadata": {},
   "outputs": [],
   "source": [
    "pymol.energy_type(fa_dun) #Dunbrack rotamer probability\n",
    "pymol.apply(ras)"
   ]
  },
  {
   "cell_type": "code",
   "execution_count": 149,
   "metadata": {},
   "outputs": [],
   "source": [
    "pymol.energy_type(fa_sol)\n",
    "pymol.apply(ras)"
   ]
  },
  {
   "cell_type": "code",
   "execution_count": 150,
   "metadata": {},
   "outputs": [],
   "source": [
    "pymol.label_energy(ras, 'fa_atr')\n",
    "pymol.apply(ras)"
   ]
  },
  {
   "cell_type": "code",
   "execution_count": 151,
   "metadata": {},
   "outputs": [],
   "source": [
    "pymol.send_hbonds(ras)\n",
    "pymol.apply(ras)"
   ]
  },
  {
   "cell_type": "code",
   "execution_count": 23,
   "metadata": {
    "collapsed": true
   },
   "outputs": [
    {
     "name": "stdout",
     "output_type": "stream",
     "text": [
      "core.scoring: \n------------------------------------------------------------\n Scores                       Weight   Raw Score Wghtd.Score\n------------------------------------------------------------\n fa_atr                       1.000   -4240.991   -4240.991\n fa_rep                       0.550    4336.451    2385.048\n fa_sol                       1.000    2798.424    2798.424\n fa_intra_rep                 0.005    3034.836      15.174\n fa_intra_sol_xover4          1.000     180.944     180.944\n lk_ball_wtd                  1.000     -56.460     -56.460\n fa_elec                      1.000    -933.702    -933.702\n pro_close                    1.250     270.565     338.206\n hbond_sr_bb                  1.000    -181.224    -181.224\n hbond_lr_bb                  1.000    -130.586    -130.586\n hbond_bb_sc                  1.000     -58.168     -58.168\n hbond_sc                     1.000     -38.850     -38.850\n dslf_fa13                    1.250       0.000       0.000\n omega                        0.400     149.145      59.658\n fa_dun                       0.700    4635.733    3245.013\n p_aa_pp                      0.600    -101.427     -60.856\n yhh_planarity                0.625       0.000       0.000\n ref                          1.000     188.455     188.455\n rama_prepro                  0.450     591.830     266.324\n---------------------------------------------------\n Total weighted score:                     3776.412\n"
     ]
    },
    {
     "name": "stdout",
     "output_type": "stream",
     "text": [
      "None\n"
     ]
    }
   ],
   "source": [
    "print(scorefxn.show(ras))"
   ]
  },
  {
   "cell_type": "code",
   "execution_count": 33,
   "metadata": {
    "collapsed": true
   },
   "outputs": [
    {
     "name": "stdout",
     "output_type": "stream",
     "text": [
      "2506.4079272551116\n"
     ]
    }
   ],
   "source": [
    "print(scorefxn2(ras))\n",
    "pymol.send_energy(ras) "
   ]
  },
  {
   "cell_type": "code",
   "execution_count": 25,
   "metadata": {
    "collapsed": true
   },
   "outputs": [
    {
     "name": "stdout",
     "output_type": "stream",
     "text": [
      "core.scoring: \n------------------------------------------------------------\n Scores                       Weight   Raw Score Wghtd.Score\n------------------------------------------------------------\n fa_atr                       1.000   -4240.991   -4240.991\n fa_rep                       0.550    4336.451    2385.048\n fa_sol                       1.000    2798.424    2798.424\n fa_intra_rep                 0.005    3034.836      15.174\n fa_intra_sol_xover4          1.000     180.944     180.944\n lk_ball_wtd                  1.000     -56.460     -56.460\n fa_elec                      1.000    -933.702    -933.702\n pro_close                    1.250     270.565     338.206\n hbond_sr_bb                  1.000    -181.224    -181.224\n hbond_lr_bb                  1.000    -130.586    -130.586\n hbond_bb_sc                  1.000     -58.168     -58.168\n hbond_sc                     1.000     -38.850     -38.850\n dslf_fa13                    1.250       0.000       0.000\n omega                        0.400     149.145      59.658\n fa_dun                       0.700    4635.733    3245.013\n p_aa_pp                      0.600    -101.427     -60.856\n yhh_planarity                0.625       0.000       0.000\n ref                          1.000     188.455     188.455\n rama_prepro                  0.450     591.830     266.324\n---------------------------------------------------\n Total weighted score:                     3776.412\n"
     ]
    },
    {
     "name": "stdout",
     "output_type": "stream",
     "text": [
      "None\n"
     ]
    }
   ],
   "source": [
    "print(scorefxn.show(ras))"
   ]
  },
  {
   "cell_type": "code",
   "execution_count": 152,
   "metadata": {
    "collapsed": true
   },
   "outputs": [
    {
     "name": "stdout",
     "output_type": "stream",
     "text": [
      "core.scoring.Energies: E               fa_atr        fa_rep        fa_sol  fa_intra_repfa_intra_sol_x   lk_ball_wtd       fa_elec     pro_close   hbond_sr_bb   hbond_lr_bb   hbond_bb_sc      hbond_sc     dslf_fa13         omega        fa_dun       p_aa_pp yhh_planarity           ref   rama_prepro\n"
     ]
    },
    {
     "name": "stdout",
     "output_type": "stream",
     "text": [
      "core.scoring.Energies: E(i)  24         -7.40         19.03          2.94          8.76          0.09         -0.11         -0.56          0.00          0.00          0.00          0.00          0.00          0.00          0.12          2.68          0.06          0.00          2.30          3.58\n"
     ]
    },
    {
     "name": "stdout",
     "output_type": "stream",
     "text": [
      "None\n"
     ]
    }
   ],
   "source": [
    "print(ras.energies().show(24))"
   ]
  },
  {
   "cell_type": "code",
   "execution_count": 192,
   "metadata": {},
   "outputs": [],
   "source": [
    "hbond_set = hbonds.HBondSet()\n",
    "ras.update_residue_neighbors()\n",
    "hbonds.fill_hbond_set(ras, False, hbond_set)\n",
    "hbond_set.show(ras)"
   ]
  },
  {
   "cell_type": "code",
   "execution_count": 194,
   "metadata": {},
   "outputs": [],
   "source": [
    "hbond_set.show(ras, 24)"
   ]
  },
  {
   "cell_type": "markdown",
   "metadata": {},
   "source": [
    "### Folding"
   ]
  },
  {
   "cell_type": "code",
   "execution_count": 312,
   "metadata": {},
   "outputs": [],
   "source": [
    "from pyrosetta import pose_from_sequence\n",
    "from random import randint, gauss\n",
    "from time import sleep"
   ]
  },
  {
   "cell_type": "code",
   "execution_count": 313,
   "metadata": {},
   "outputs": [],
   "source": [
    "pose = pose_from_sequence('A'*10) #Sequence of 10 alanines"
   ]
  },
  {
   "cell_type": "code",
   "execution_count": 314,
   "metadata": {},
   "outputs": [],
   "source": [
    "pymol.apply(pose)"
   ]
  },
  {
   "cell_type": "code",
   "execution_count": 315,
   "metadata": {},
   "outputs": [],
   "source": [
    "# set score function to include Van der Wals and H-bonds only\n",
    "score = ScoreFunction()\n",
    "score.set_weight(fa_atr, 0.8) #Van der Wals atractive\n",
    "score.set_weight(fa_rep, 0.44) #Van der Wals repulsive\n",
    "score.set_weight(hbond_sr_bb, 1.17)"
   ]
  },
  {
   "cell_type": "code",
   "execution_count": 316,
   "metadata": {
    "collapsed": true
   },
   "outputs": [],
   "source": [
    "last_score = score(pose)\n",
    "low_pose = Pose()\n",
    "low_pose.assign(pose) \n",
    "\n",
    "for iter in range(200): \n",
    "    residue = randint(1, 10)\n",
    "    pose.set_phi(residue, gauss(pose.phi(residue), 20))\n",
    "    pose.set_psi(residue, gauss(pose.psi(residue), 20))\n",
    "    pymol.apply(pose)\n",
    "    \n",
    "    current_score=score(pose)\n",
    "    if current_score<last_score:\n",
    "        low_pose.assign(pose)\n",
    "        last_score = current_score\n",
    "    sleep(0.1)"
   ]
  },
  {
   "cell_type": "code",
   "execution_count": 317,
   "metadata": {
    "collapsed": true
   },
   "outputs": [
    {
     "name": "stdout",
     "output_type": "stream",
     "text": [
      "Best score: 1.938724492875222\n"
     ]
    }
   ],
   "source": [
    "pymol.apply(low_pose)\n",
    "print('Best score: ' + str(last_score))"
   ]
  },
  {
   "cell_type": "markdown",
   "metadata": {},
   "source": [
    "##Docking\n",
    "\n",
    "Complex of colicin D and ImmD (1V74) will be used."
   ]
  },
  {
   "cell_type": "code",
   "execution_count": 318,
   "metadata": {
    "collapsed": true
   },
   "outputs": [],
   "source": [
    "from pyrosetta.teaching import *\n",
    "from pyrosetta import Vector1\n",
    "import rosetta.protocols.rigid as rigid_moves\n",
    "from rosetta.protocols.docking import *"
   ]
  },
  {
   "cell_type": "code",
   "execution_count": 319,
   "metadata": {
    "collapsed": true
   },
   "outputs": [
    {
     "name": "stdout",
     "output_type": "stream",
     "text": [
      "The file 1V74.pdb already exists; this file will be overwritten.\nPDB 1V74 successfully loaded from the RCSB into 1V74.pdb.\nif the file 1V74.clean.pdb already exists, it will be overwritten\nPDB 1V74.pdb successfully cleaned, non-ATOM lines removed\nclean data written to 1V74.clean.pdb\ncore.import_pose.import_pose: File '1V74.clean.pdb' automatically determined to be of type PDB\n"
     ]
    },
    {
     "name": "stdout",
     "output_type": "stream",
     "text": [
      "core.conformation.Conformation: [ WARNING ] missing heavyatom:  OXT on residue LEU:CtermProteinFull 107\n"
     ]
    },
    {
     "name": "stdout",
     "output_type": "stream",
     "text": [
      "core.conformation.Conformation: [ WARNING ] missing heavyatom:  OXT on residue LEU:CtermProteinFull 194\n"
     ]
    }
   ],
   "source": [
    "pose = pose_from_rcsb('1V74')\n",
    "pymol.apply(pose)"
   ]
  },
  {
   "cell_type": "code",
   "execution_count": 320,
   "metadata": {
    "collapsed": true
   },
   "outputs": [
    {
     "name": "stdout",
     "output_type": "stream",
     "text": [
      "FOLD_TREE  EDGE 1 107 -1  EDGE 1 108 1  EDGE 108 194 -1 \n"
     ]
    }
   ],
   "source": [
    "print(pose.fold_tree())"
   ]
  },
  {
   "cell_type": "code",
   "execution_count": 321,
   "metadata": {
    "collapsed": true
   },
   "outputs": [
    {
     "name": "stdout",
     "output_type": "stream",
     "text": [
      "FOLD_TREE  EDGE 1 88 -1  EDGE 88 107 -1  EDGE 88 158 1  EDGE 158 108 -1  EDGE 158 194 -1 \n"
     ]
    }
   ],
   "source": [
    "setup_foldtree(pose, \"A_B\", Vector1([1]))\n",
    "print(pose.fold_tree())"
   ]
  },
  {
   "cell_type": "code",
   "execution_count": 323,
   "metadata": {
    "collapsed": true
   },
   "outputs": [
    {
     "name": "stdout",
     "output_type": "stream",
     "text": [
      "Rotation matrix:\n    -0.7685217364647527     -0.5410492486350577     -0.3415260621572572\n    -0.4152200273442840      0.8278586413578777     -0.3771503663279437\n     0.4867922241299832     -0.1480397935709470     -0.8608818444165606\n\nRotation vector:     -2.528204534753801      -11.32734702901771      -11.01155062262599\n"
     ]
    }
   ],
   "source": [
    "jump_num = 1\n",
    "print('Rotation matrix:')\n",
    "print(pose.jump(jump_num).get_rotation())\n",
    "print('Rotation vector:' + str(pose.jump(jump_num).get_translation()))"
   ]
  },
  {
   "cell_type": "code",
   "execution_count": 324,
   "metadata": {},
   "outputs": [],
   "source": [
    "pert_mover = rigid_moves.RigidBodyPerturbMover(jump_num, \n",
    "                                               8, 3)\n",
    "# Gaussian with a mean of 8° rotation and 3 Å translation\n",
    "pert_mover.apply(pose)\n",
    "pymol.apply(pose)"
   ]
  },
  {
   "cell_type": "code",
   "execution_count": 325,
   "metadata": {
    "collapsed": true
   },
   "outputs": [
    {
     "name": "stdout",
     "output_type": "stream",
     "text": [
      "protocols.docking.DockingInitialPerturbation: sliding into contact\n"
     ]
    },
    {
     "name": "stdout",
     "output_type": "stream",
     "text": [
      "protocols.docking.DockingInitialPerturbation: Moving away\n"
     ]
    },
    {
     "name": "stdout",
     "output_type": "stream",
     "text": [
      "protocols.moves.RigidBodyMover: Translate: Jump (before): RT -0.857104 -0.484321 -0.175517 -0.306307 0.753085 -0.582271 0.414185 -0.445304 -0.793823 -4.80703 -10.5183 -14.4595\n"
     ]
    },
    {
     "name": "stdout",
     "output_type": "stream",
     "text": [
      "protocols.moves.RigidBodyMover: Translate: Jump (after):  RT -0.857104 -0.484321 -0.175517 -0.306307 0.753085 -0.582271 0.414185 -0.445304 -0.793823 -5.09541 -11.1873 -15.1445\n"
     ]
    },
    {
     "name": "stdout",
     "output_type": "stream",
     "text": [
      "protocols.moves.RigidBodyMover: Translate: Jump (before): RT -0.857104 -0.484321 -0.175517 -0.306307 0.753085 -0.582271 0.414185 -0.445304 -0.793823 -5.09541 -11.1873 -15.1445\n"
     ]
    },
    {
     "name": "stdout",
     "output_type": "stream",
     "text": [
      "protocols.moves.RigidBodyMover: Translate: Jump (after):  RT -0.857104 -0.484321 -0.175517 -0.306307 0.753085 -0.582271 0.414185 -0.445304 -0.793823 -5.38378 -11.8564 -15.8295\n"
     ]
    },
    {
     "name": "stdout",
     "output_type": "stream",
     "text": [
      "protocols.moves.RigidBodyMover: Translate: Jump (before): RT -0.857104 -0.484321 -0.175517 -0.306307 0.753085 -0.582271 0.414185 -0.445304 -0.793823 -5.38378 -11.8564 -15.8295\n"
     ]
    },
    {
     "name": "stdout",
     "output_type": "stream",
     "text": [
      "protocols.moves.RigidBodyMover: Translate: Jump (after):  RT -0.857104 -0.484321 -0.175517 -0.306307 0.753085 -0.582271 0.414185 -0.445304 -0.793823 -5.67215 -12.5255 -16.5144\n"
     ]
    },
    {
     "name": "stdout",
     "output_type": "stream",
     "text": [
      "protocols.docking.DockingInitialPerturbation: Moving together\n"
     ]
    },
    {
     "name": "stdout",
     "output_type": "stream",
     "text": [
      "protocols.moves.RigidBodyMover: Translate: Jump (before): RT -0.857104 -0.484321 -0.175517 -0.306307 0.753085 -0.582271 0.414185 -0.445304 -0.793823 -5.67215 -12.5255 -16.5144\n"
     ]
    },
    {
     "name": "stdout",
     "output_type": "stream",
     "text": [
      "protocols.moves.RigidBodyMover: Translate: Jump (after):  RT -0.857104 -0.484321 -0.175517 -0.306307 0.753085 -0.582271 0.414185 -0.445304 -0.793823 -5.38378 -11.8564 -15.8295\n"
     ]
    },
    {
     "name": "stdout",
     "output_type": "stream",
     "text": [
      "protocols.moves.RigidBodyMover: Translate: Jump (before): RT -0.857104 -0.484321 -0.175517 -0.306307 0.753085 -0.582271 0.414185 -0.445304 -0.793823 -5.38378 -11.8564 -15.8295\n"
     ]
    },
    {
     "name": "stdout",
     "output_type": "stream",
     "text": [
      "protocols.moves.RigidBodyMover: Translate: Jump (after):  RT -0.857104 -0.484321 -0.175517 -0.306307 0.753085 -0.582271 0.414185 -0.445304 -0.793823 -5.67215 -12.5255 -16.5144\n"
     ]
    }
   ],
   "source": [
    "slide = DockingSlideIntoContact(jump_num)\n",
    "#slide = FaDockingSlideIntoContact(jump_num)\n",
    "slide.apply(pose)\n",
    "pymol.apply(pose)"
   ]
  }
 ],
 "metadata": {
  "kernelspec": {
   "display_name": "Python 2",
   "language": "python",
   "name": "python2"
  },
  "language_info": {
   "codemirror_mode": {
    "name": "ipython",
    "version": 2
   },
   "file_extension": ".py",
   "mimetype": "text/x-python",
   "name": "python",
   "nbconvert_exporter": "python",
   "pygments_lexer": "ipython2",
   "version": "2.7.6"
  }
 },
 "nbformat": 4,
 "nbformat_minor": 0
}
